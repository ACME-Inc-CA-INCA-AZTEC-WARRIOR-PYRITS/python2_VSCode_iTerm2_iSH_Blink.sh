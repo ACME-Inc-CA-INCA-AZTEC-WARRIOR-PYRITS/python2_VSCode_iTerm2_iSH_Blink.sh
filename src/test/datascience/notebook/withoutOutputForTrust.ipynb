{
    "cells": [
        {
            "source": [
                "pip list"
            ],
            "cell_type": "code",
            "outputs": [
            ],
            "metadata": {
                "tags": ["WOW"]
            },
            "execution_count": 3
        },
        {
            "cell_type": "markdown",
            "metadata": {},
            "source": [
                "# HELLO WORLD"
            ]
        },
        {
            "cell_type": "code",
            "execution_count": 1,
            "metadata": {},
            "outputs": [
            ],
            "source": [
                "with Error"
            ]
        },
        {
            "cell_type": "code",
            "execution_count": 6,
            "metadata": {},
            "outputs": [
            ],
            "source": [
                "import matplotlib\n",
                "import matplotlib.pyplot as plt\n",
                "import numpy as np\n",
                "\n",
                "t = np.arange(0.0, 2.0, 0.01)\n",
                "s = 1 + np.sin(2 * np.pi  * t)\n",
                "\n",
                "fig, ax = plt.subplots()\n",
                "ax.plot(t, s)\n",
                "\n",
                "ax.set(xlabel='time (s)', ylabel='voltage (mV)',\n",
                "    title='About as simple as it gets, folks')\n",
                "\n",
                "ax.grid()\n",
                "\n",
                "fig.savefig('test.png')\n",
                "\n",
                "plt.show()"
            ]
        }
    ],
    "metadata": {
        "language_info": {
            "name": "python",
            "codemirror_mode": {
                "name": "ipython",
                "version": 3
            }
        },
        "orig_nbformat": 2,
        "file_extension": ".py",
        "mimetype": "text/x-python",
        "name": "python",
        "npconvert_exporter": "python",
        "pygments_lexer": "ipython3",
        "version": 3,
        "kernelspec": {
            "name": "python_defaultSpec_1591908362720",
            "display_name": "Python 3.8.2 64-bit ('venvForWidgets': venv)"
        }
    },
    "nbformat": 4,
    "nbformat_minor": 2
}
